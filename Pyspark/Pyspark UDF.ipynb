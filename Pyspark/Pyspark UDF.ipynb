{
 "cells": [
  {
   "cell_type": "code",
   "execution_count": 0,
   "metadata": {
    "application/vnd.databricks.v1+cell": {
     "cellMetadata": {
      "byteLimit": 2048000,
      "rowLimit": 10000
     },
     "inputWidgets": {},
     "nuid": "66e3d533-ef5b-44e5-a460-867368dfaede",
     "showTitle": false,
     "tableResultSettingsMap": {},
     "title": ""
    }
   },
   "outputs": [],
   "source": [
    "# UDF's"
   ]
  },
  {
   "cell_type": "code",
   "execution_count": 0,
   "metadata": {
    "application/vnd.databricks.v1+cell": {
     "cellMetadata": {
      "byteLimit": 2048000,
      "rowLimit": 10000
     },
     "inputWidgets": {},
     "nuid": "bafe4b04-b934-4750-b6b3-c1c4bed6eed6",
     "showTitle": false,
     "tableResultSettingsMap": {},
     "title": ""
    }
   },
   "outputs": [],
   "source": [
    "from pyspark.sql import functions as F, types as T"
   ]
  },
  {
   "cell_type": "code",
   "execution_count": 0,
   "metadata": {
    "application/vnd.databricks.v1+cell": {
     "cellMetadata": {
      "byteLimit": 2048000,
      "rowLimit": 10000
     },
     "inputWidgets": {},
     "nuid": "2f404806-4d53-43a7-87fe-bf0ff9c46ffc",
     "showTitle": false,
     "tableResultSettingsMap": {},
     "title": ""
    }
   },
   "outputs": [],
   "source": [
    "data2 = [\n",
    "    (100, \"dileep kumar\"),\n",
    "    (101, \"rajeev kanakala\"),\n",
    "    (102, \"anesh yadav\"),\n",
    "    (103, \"lokesh reddy\"),\n",
    "]\n",
    "\n",
    "columns = T.StructType([\n",
    "    T.StructField(\"EmpId\", T.IntegerType(), True),\n",
    "    T.StructField(\"EmpFullName\", T.StringType(), True),\n",
    "])\n",
    "\n",
    "df = spark.createDataFrame(data=data2, schema=columns)\n",
    "df.display()"
   ]
  },
  {
   "cell_type": "code",
   "execution_count": 0,
   "metadata": {
    "application/vnd.databricks.v1+cell": {
     "cellMetadata": {
      "byteLimit": 2048000,
      "rowLimit": 10000
     },
     "inputWidgets": {},
     "nuid": "6ddeb271-6ea2-468f-bfe7-8fb9d6223ad4",
     "showTitle": false,
     "tableResultSettingsMap": {},
     "title": ""
    }
   },
   "outputs": [],
   "source": [
    "def rename_and_cast(name):\n",
    "    full_name = name.split(\" \") # --> list\n",
    "    first_name = full_name[0]\n",
    "    last_name = full_name[1]\n",
    "    first_name = first_name[0].upper() + first_name[1:]\n",
    "    last_name = last_name[0].upper() + last_name[1:]\n",
    "    return f\"{first_name} {last_name}\"\n"
   ]
  },
  {
   "cell_type": "code",
   "execution_count": 0,
   "metadata": {
    "application/vnd.databricks.v1+cell": {
     "cellMetadata": {
      "byteLimit": 2048000,
      "rowLimit": 10000
     },
     "inputWidgets": {},
     "nuid": "d20eaa79-22f0-42bb-aadb-5dd00dfe96e4",
     "showTitle": false,
     "tableResultSettingsMap": {},
     "title": ""
    }
   },
   "outputs": [],
   "source": [
    "# 1. Method\n",
    "\n",
    "udf_rename_and_cast = F.udf(f=rename_and_cast, returnType=T.StringType())"
   ]
  },
  {
   "cell_type": "code",
   "execution_count": 0,
   "metadata": {
    "application/vnd.databricks.v1+cell": {
     "cellMetadata": {
      "byteLimit": 2048000,
      "rowLimit": 10000
     },
     "inputWidgets": {},
     "nuid": "ce4fb329-d9d9-47be-9442-c10983f3f052",
     "showTitle": false,
     "tableResultSettingsMap": {},
     "title": ""
    }
   },
   "outputs": [],
   "source": [
    "type(udf_rename_and_cast)"
   ]
  },
  {
   "cell_type": "code",
   "execution_count": 0,
   "metadata": {
    "application/vnd.databricks.v1+cell": {
     "cellMetadata": {
      "byteLimit": 2048000,
      "rowLimit": 10000
     },
     "inputWidgets": {},
     "nuid": "260f35c5-ee1c-4cee-814e-a1539bb498df",
     "showTitle": false,
     "tableResultSettingsMap": {},
     "title": ""
    }
   },
   "outputs": [],
   "source": [
    "df = (\n",
    "    df\n",
    "    .withColumn(\"EmpFullName\", udf_rename_and_cast(F.col(\"EmpFullName\")))\n",
    ")\n",
    "df.display()"
   ]
  },
  {
   "cell_type": "code",
   "execution_count": 0,
   "metadata": {
    "application/vnd.databricks.v1+cell": {
     "cellMetadata": {
      "byteLimit": 2048000,
      "rowLimit": 10000
     },
     "inputWidgets": {},
     "nuid": "85a61141-8146-440b-ad6d-1326c9e1f2c2",
     "showTitle": false,
     "tableResultSettingsMap": {},
     "title": ""
    }
   },
   "outputs": [],
   "source": [
    "renamed_df = (\n",
    "    df\n",
    "    .withColumns(\n",
    "        {\n",
    "            \"EmpFullName\": udf_rename_and_cast(F.col(\"EmpFullName\")),\n",
    "            \"EmpFirstName\": F.split(F.col(\"EmpFullName\"), \" \")[0],\n",
    "            \"EmpLastName\": F.split(F.col(\"EmpFullName\"), \" \")[1],\n",
    "        }\n",
    "    )\n",
    "    .drop(\"EmpFullName\")\n",
    ")\n",
    "renamed_df.display()"
   ]
  },
  {
   "cell_type": "code",
   "execution_count": 0,
   "metadata": {
    "application/vnd.databricks.v1+cell": {
     "cellMetadata": {
      "byteLimit": 2048000,
      "rowLimit": 10000
     },
     "inputWidgets": {},
     "nuid": "d3aa7634-66e8-42e4-9675-791830997688",
     "showTitle": false,
     "tableResultSettingsMap": {},
     "title": ""
    }
   },
   "outputs": [],
   "source": [
    "renamed_df = (\n",
    "    df\n",
    "    .withColumn(\"EmpFullName\", udf_rename_and_cast(F.col(\"EmpFullName\")))\n",
    "    .withColumn(\"EmpFirstName\", F.split(F.col(\"EmpFullName\"), \" \")[0])\n",
    "    .withColumn(\"EmpLastName\", F.split(F.col(\"EmpFullName\"), \" \")[1])\n",
    "    .drop(\"EmpFullName\")\n",
    ")  \n",
    "renamed_df.display()"
   ]
  },
  {
   "cell_type": "code",
   "execution_count": 0,
   "metadata": {
    "application/vnd.databricks.v1+cell": {
     "cellMetadata": {
      "byteLimit": 2048000,
      "rowLimit": 10000
     },
     "inputWidgets": {},
     "nuid": "a715667d-fcad-40ed-970f-77bd71ad75e6",
     "showTitle": false,
     "tableResultSettingsMap": {},
     "title": ""
    }
   },
   "outputs": [],
   "source": [
    "rename_and_cast(\"dileep kumar\")"
   ]
  },
  {
   "cell_type": "code",
   "execution_count": 0,
   "metadata": {
    "application/vnd.databricks.v1+cell": {
     "cellMetadata": {
      "byteLimit": 2048000,
      "rowLimit": 10000
     },
     "inputWidgets": {},
     "nuid": "cf8a3b79-7120-4a45-b049-cd844e5da36c",
     "showTitle": false,
     "tableResultSettingsMap": {},
     "title": ""
    }
   },
   "outputs": [],
   "source": [
    "# method 2\n",
    "@udf(returnType=T.StringType())\n",
    "def rename_and_cast2(name):\n",
    "    full_name = name.split(\" \") # --> list\n",
    "    first_name = full_name[0]\n",
    "    last_name = full_name[1]\n",
    "    first_name = first_name[0].upper() + first_name[1:]\n",
    "    last_name = last_name[0].upper() + last_name[1:]\n",
    "    return f\"{first_name} {last_name}\""
   ]
  },
  {
   "cell_type": "code",
   "execution_count": 0,
   "metadata": {
    "application/vnd.databricks.v1+cell": {
     "cellMetadata": {
      "byteLimit": 2048000,
      "rowLimit": 10000
     },
     "inputWidgets": {},
     "nuid": "df17bff8-6c8b-4b46-be9e-85a441774d6c",
     "showTitle": false,
     "tableResultSettingsMap": {},
     "title": ""
    }
   },
   "outputs": [],
   "source": [
    "renamed_df = (\n",
    "    df\n",
    "    .withColumn(\"EmpFullName\", rename_and_cast2(F.col(\"EmpFullName\")))\n",
    "    .withColumn(\"EmpFirstName\", F.split(F.col(\"EmpFullName\"), \" \")[0])\n",
    "    .withColumn(\"EmpLastName\", F.split(F.col(\"EmpFullName\"), \" \")[1])\n",
    "    .drop(\"EmpFullName\")\n",
    ")  \n",
    "renamed_df.display()"
   ]
  }
 ],
 "metadata": {
  "application/vnd.databricks.v1+notebook": {
   "computePreferences": null,
   "dashboards": [],
   "environmentMetadata": {
    "base_environment": "",
    "environment_version": "2"
   },
   "inputWidgetPreferences": null,
   "language": "python",
   "notebookMetadata": {
    "pythonIndentUnit": 4
   },
   "notebookName": "Pyspark UDF",
   "widgets": {}
  },
  "language_info": {
   "name": "python"
  }
 },
 "nbformat": 4,
 "nbformat_minor": 0
}
