{
 "cells": [
  {
   "cell_type": "markdown",
   "metadata": {
    "application/vnd.databricks.v1+cell": {
     "cellMetadata": {},
     "inputWidgets": {},
     "nuid": "cb2d7105-1e96-4da3-b533-647b7a27b3fc",
     "showTitle": false,
     "tableResultSettingsMap": {},
     "title": ""
    }
   },
   "source": [
    "Widgets"
   ]
  },
  {
   "cell_type": "code",
   "execution_count": 0,
   "metadata": {
    "application/vnd.databricks.v1+cell": {
     "cellMetadata": {
      "byteLimit": 2048000,
      "rowLimit": 10000
     },
     "inputWidgets": {},
     "nuid": "6b637325-b7c8-4bb7-bcf6-381d1fa4095a",
     "showTitle": false,
     "tableResultSettingsMap": {},
     "title": ""
    }
   },
   "outputs": [],
   "source": [
    "dbutils.widgets.text(name=\"PersonName\", defaultValue=\"John\", label=None)\n",
    "name = dbutils.widgets.get(\"PersonName\")"
   ]
  },
  {
   "cell_type": "code",
   "execution_count": 0,
   "metadata": {
    "application/vnd.databricks.v1+cell": {
     "cellMetadata": {
      "byteLimit": 2048000,
      "rowLimit": 10000
     },
     "inputWidgets": {},
     "nuid": "fb76d826-fcbd-4431-9af2-be9fd729e181",
     "showTitle": false,
     "tableResultSettingsMap": {},
     "title": ""
    }
   },
   "outputs": [],
   "source": [
    "dbutils.widgets.combobox(name=\"MyComboBox\", choices=[\"1\", \"2\", \"3\", \"4\"], defaultValue=\"1\", label=None)\n",
    "combo_output = dbutils.widgets.get(\"MyComboBox\")\n",
    "print(combo_output)"
   ]
  },
  {
   "cell_type": "code",
   "execution_count": 0,
   "metadata": {
    "application/vnd.databricks.v1+cell": {
     "cellMetadata": {
      "byteLimit": 2048000,
      "rowLimit": 10000
     },
     "inputWidgets": {},
     "nuid": "808e9d59-139a-436b-84a8-f6018b4ccefa",
     "showTitle": false,
     "tableResultSettingsMap": {},
     "title": ""
    }
   },
   "outputs": [],
   "source": [
    "dbutils.widgets.multiselect(name=\"multiselect\", choices=[\"a\", \"b\", \"c\", \"d\"], defaultValue=\"a\", label=None)\n",
    "multi_output = dbutils.widgets.get(\"multiselect\")\n",
    "print(multi_output)"
   ]
  },
  {
   "cell_type": "code",
   "execution_count": 0,
   "metadata": {
    "application/vnd.databricks.v1+cell": {
     "cellMetadata": {
      "byteLimit": 2048000,
      "rowLimit": 10000
     },
     "inputWidgets": {},
     "nuid": "873e1692-68b7-42cd-a3cd-89efe6c8a486",
     "showTitle": false,
     "tableResultSettingsMap": {},
     "title": ""
    }
   },
   "outputs": [],
   "source": [
    "result = multi_output.split(\",\")[2]\n",
    "result"
   ]
  },
  {
   "cell_type": "code",
   "execution_count": 0,
   "metadata": {
    "application/vnd.databricks.v1+cell": {
     "cellMetadata": {
      "byteLimit": 2048000,
      "rowLimit": 10000
     },
     "inputWidgets": {},
     "nuid": "7784ecba-6035-405c-9a58-8cceced639c9",
     "showTitle": false,
     "tableResultSettingsMap": {},
     "title": ""
    }
   },
   "outputs": [],
   "source": [
    "isinstance(multi_output, str)"
   ]
  },
  {
   "cell_type": "code",
   "execution_count": 0,
   "metadata": {
    "application/vnd.databricks.v1+cell": {
     "cellMetadata": {
      "byteLimit": 2048000,
      "rowLimit": 10000
     },
     "inputWidgets": {},
     "nuid": "036b046e-1671-4b9a-a7d8-f9c3f4ea3917",
     "showTitle": false,
     "tableResultSettingsMap": {},
     "title": ""
    }
   },
   "outputs": [],
   "source": [
    "type(int(combo_output))"
   ]
  },
  {
   "cell_type": "code",
   "execution_count": 0,
   "metadata": {
    "application/vnd.databricks.v1+cell": {
     "cellMetadata": {
      "byteLimit": 2048000,
      "rowLimit": 10000
     },
     "inputWidgets": {},
     "nuid": "ed6d7eef-ef4b-4fe5-998c-ee9e1ebb8400",
     "showTitle": false,
     "tableResultSettingsMap": {},
     "title": ""
    }
   },
   "outputs": [],
   "source": [
    "isinstance(int(combo_output), int)"
   ]
  },
  {
   "cell_type": "code",
   "execution_count": 0,
   "metadata": {
    "application/vnd.databricks.v1+cell": {
     "cellMetadata": {
      "byteLimit": 2048000,
      "rowLimit": 10000
     },
     "inputWidgets": {},
     "nuid": "29dbb1f8-4245-49cf-8a9e-9b317d4b84b2",
     "showTitle": false,
     "tableResultSettingsMap": {},
     "title": ""
    }
   },
   "outputs": [],
   "source": [
    "dbutils.widgets.dropdown(name=\"MydropBox\", choices=[\"a\", \"b\", \"c\", \"d\"], defaultValue=\"a\", label=None)\n",
    "drop_output = dbutils.widgets.get(\"MydropBox\")\n",
    "print(drop_output)"
   ]
  },
  {
   "cell_type": "code",
   "execution_count": 0,
   "metadata": {
    "application/vnd.databricks.v1+cell": {
     "cellMetadata": {
      "byteLimit": 2048000,
      "rowLimit": 10000
     },
     "inputWidgets": {},
     "nuid": "4a118598-b923-4483-b7ff-20ffafb2ab55",
     "showTitle": false,
     "tableResultSettingsMap": {},
     "title": ""
    }
   },
   "outputs": [],
   "source": [
    "print(name)"
   ]
  },
  {
   "cell_type": "code",
   "execution_count": 0,
   "metadata": {
    "application/vnd.databricks.v1+cell": {
     "cellMetadata": {
      "byteLimit": 2048000,
      "rowLimit": 10000
     },
     "inputWidgets": {},
     "nuid": "e00c8ecb-7d73-4203-b2c2-7e0a1c9f42db",
     "showTitle": false,
     "tableResultSettingsMap": {},
     "title": ""
    }
   },
   "outputs": [],
   "source": [
    "dbutils.widgets.removeAll()"
   ]
  },
  {
   "cell_type": "code",
   "execution_count": 0,
   "metadata": {
    "application/vnd.databricks.v1+cell": {
     "cellMetadata": {
      "byteLimit": 2048000,
      "rowLimit": 10000
     },
     "inputWidgets": {},
     "nuid": "790244fc-96af-48ba-8125-77445569f97a",
     "showTitle": false,
     "tableResultSettingsMap": {},
     "title": ""
    }
   },
   "outputs": [],
   "source": [
    "dbutils.widgets.text(name=\"PersonName\", defaultValue=\"John\", label=None)\n",
    "dbutils.widgets.combobox(name=\"MyComboBox\", choices=[\"1\", \"2\", \"3\", \"4\"], defaultValue=\"1\", label=None)\n",
    "dbutils.widgets.dropdown(name=\"MydropBox\", choices=[\"a\", \"b\", \"c\", \"d\"], defaultValue=\"a\", label=None)\n",
    "dbutils.widgets.multiselect(name=\"multiselect\", choices=[\"a\", \"b\", \"c\", \"d\"], defaultValue=\"a\", label=None)"
   ]
  },
  {
   "cell_type": "code",
   "execution_count": 0,
   "metadata": {
    "application/vnd.databricks.v1+cell": {
     "cellMetadata": {
      "byteLimit": 2048000,
      "rowLimit": 10000
     },
     "inputWidgets": {},
     "nuid": "a8258e40-6942-4792-b0ae-8845d3fd7b04",
     "showTitle": false,
     "tableResultSettingsMap": {},
     "title": ""
    }
   },
   "outputs": [],
   "source": [
    "person_name = dbutils.widgets.get(\"PersonName\")\n",
    "combo_val = int(dbutils.widgets.get(\"MyComboBox\"))\n",
    "dropbox_val = dbutils.widgets.get(\"MydropBox\")\n",
    "multi_select = (dbutils.widgets.get(\"multiselect\")).split(\",\")\n",
    "print(combo_val)"
   ]
  },
  {
   "cell_type": "code",
   "execution_count": 0,
   "metadata": {
    "application/vnd.databricks.v1+cell": {
     "cellMetadata": {
      "byteLimit": 2048000,
      "rowLimit": 10000
     },
     "inputWidgets": {},
     "nuid": "7cfeca6e-3a27-40eb-a3ab-3f511d7e902e",
     "showTitle": false,
     "tableResultSettingsMap": {},
     "title": ""
    }
   },
   "outputs": [],
   "source": [
    "isinstance(combo_val, int)"
   ]
  }
 ],
 "metadata": {
  "application/vnd.databricks.v1+notebook": {
   "computePreferences": null,
   "dashboards": [],
   "environmentMetadata": {
    "base_environment": "",
    "environment_version": "2"
   },
   "inputWidgetPreferences": null,
   "language": "python",
   "notebookMetadata": {
    "pythonIndentUnit": 4,
    "widgetLayout": []
   },
   "notebookName": "databricks widgets",
   "widgets": {
    "MyComboBox": {
     "currentValue": "2",
     "nuid": "d28ad971-b286-46c7-b6bc-a2b01e6c5b76",
     "typedWidgetInfo": {
      "autoCreated": false,
      "defaultValue": "1",
      "label": null,
      "name": "MyComboBox",
      "options": {
       "widgetDisplayType": "Dropdown",
       "choices": [
        "1",
        "2",
        "3",
        "4"
       ],
       "fixedDomain": false,
       "multiselect": false
      },
      "parameterDataType": "String"
     },
     "widgetInfo": {
      "widgetType": "combobox",
      "defaultValue": "1",
      "label": null,
      "name": "MyComboBox",
      "options": {
       "widgetType": "dropdown",
       "autoCreated": null,
       "choices": [
        "1",
        "2",
        "3",
        "4"
       ]
      }
     }
    },
    "MydropBox": {
     "currentValue": "d",
     "nuid": "61757dd8-661a-4434-b108-533655953b8e",
     "typedWidgetInfo": {
      "autoCreated": false,
      "defaultValue": "a",
      "label": null,
      "name": "MydropBox",
      "options": {
       "widgetDisplayType": "Dropdown",
       "choices": [
        "a",
        "b",
        "c",
        "d"
       ],
       "fixedDomain": true,
       "multiselect": false
      },
      "parameterDataType": "String"
     },
     "widgetInfo": {
      "widgetType": "dropdown",
      "defaultValue": "a",
      "label": null,
      "name": "MydropBox",
      "options": {
       "widgetType": "dropdown",
       "autoCreated": null,
       "choices": [
        "a",
        "b",
        "c",
        "d"
       ]
      }
     }
    },
    "PersonName": {
     "currentValue": "Srinath",
     "nuid": "06dbd642-7f62-4f98-9779-27afeacf1400",
     "typedWidgetInfo": {
      "autoCreated": false,
      "defaultValue": "John",
      "label": null,
      "name": "PersonName",
      "options": {
       "widgetDisplayType": "Text",
       "validationRegex": null
      },
      "parameterDataType": "String"
     },
     "widgetInfo": {
      "widgetType": "text",
      "defaultValue": "John",
      "label": null,
      "name": "PersonName",
      "options": {
       "widgetType": "text",
       "autoCreated": null,
       "validationRegex": null
      }
     }
    },
    "multiselect": {
     "currentValue": "a,b,d",
     "nuid": "2dfd0c7a-064a-4050-ab40-84abe5ffb4b6",
     "typedWidgetInfo": {
      "autoCreated": false,
      "defaultValue": "a",
      "label": null,
      "name": "multiselect",
      "options": {
       "widgetDisplayType": "Dropdown",
       "choices": [
        "a",
        "b",
        "c",
        "d"
       ],
       "fixedDomain": true,
       "multiselect": true
      },
      "parameterDataType": "String"
     },
     "widgetInfo": {
      "widgetType": "multiselect",
      "defaultValue": "a",
      "label": null,
      "name": "multiselect",
      "options": {
       "widgetType": "dropdown",
       "autoCreated": null,
       "choices": [
        "a",
        "b",
        "c",
        "d"
       ]
      }
     }
    }
   }
  },
  "language_info": {
   "name": "python"
  }
 },
 "nbformat": 4,
 "nbformat_minor": 0
}
